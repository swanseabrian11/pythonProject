{
 "cells": [
  {
   "cell_type": "code",
   "execution_count": null,
   "id": "central-clinton",
   "metadata": {},
   "outputs": [],
   "source": [
    "import re\n",
    "s = \"inline; filename=\"第3讲－温病名医赵绍琴.mp3\"; filename*=UTF-8''%E7%AC%AC3%E8%AE%B2%EF%BC%8D%E6%B8%A9%E7%97%85%E5%90%8D%E5%8C%BB%E8%B5%B5%E7%BB%8D%E7%90%B4.mp3\""
   ]
  },
  {
   "cell_type": "raw",
   "id": "constant-valley",
   "metadata": {},
   "source": [
    "ss = re.search(r'\"filename =(.*?).(.*?)\",s)\n",
    "print(ss.group())"
   ]
  },
  {
   "cell_type": "code",
   "execution_count": null,
   "id": "developing-lender",
   "metadata": {},
   "outputs": [],
   "source": []
  },
  {
   "cell_type": "code",
   "execution_count": null,
   "id": "favorite-network",
   "metadata": {},
   "outputs": [],
   "source": []
  },
  {
   "cell_type": "code",
   "execution_count": null,
   "id": "angry-carnival",
   "metadata": {},
   "outputs": [],
   "source": []
  },
  {
   "cell_type": "code",
   "execution_count": null,
   "id": "attached-alexandria",
   "metadata": {},
   "outputs": [],
   "source": []
  },
  {
   "cell_type": "code",
   "execution_count": null,
   "id": "pressed-russian",
   "metadata": {},
   "outputs": [],
   "source": []
  },
  {
   "cell_type": "code",
   "execution_count": null,
   "id": "electrical-sword",
   "metadata": {},
   "outputs": [],
   "source": []
  }
 ],
 "metadata": {
  "kernelspec": {
   "display_name": "Python 3",
   "language": "python",
   "name": "python3"
  },
  "language_info": {
   "codemirror_mode": {
    "name": "ipython",
    "version": 3
   },
   "file_extension": ".py",
   "mimetype": "text/x-python",
   "name": "python",
   "nbconvert_exporter": "python",
   "pygments_lexer": "ipython3",
   "version": "3.8.4"
  }
 },
 "nbformat": 4,
 "nbformat_minor": 5
}
