{
 "cells": [
  {
   "cell_type": "code",
   "execution_count": null,
   "id": "forty-still",
   "metadata": {},
   "outputs": [],
   "source": [
    "\n",
    "\n",
    "文件后缀名\n",
    "https://segmentfault.com/q/1010000011797839"
   ]
  },
  {
   "cell_type": "code",
   "execution_count": null,
   "id": "continued-stage",
   "metadata": {},
   "outputs": [],
   "source": []
  },
  {
   "cell_type": "code",
   "execution_count": null,
   "id": "internal-liverpool",
   "metadata": {},
   "outputs": [],
   "source": []
  },
  {
   "cell_type": "code",
   "execution_count": null,
   "id": "nearby-basis",
   "metadata": {},
   "outputs": [],
   "source": [
    "装修器 协程 "
   ]
  }
 ],
 "metadata": {
  "kernelspec": {
   "display_name": "Python 3",
   "language": "python",
   "name": "python3"
  },
  "language_info": {
   "codemirror_mode": {
    "name": "ipython",
    "version": 3
   },
   "file_extension": ".py",
   "mimetype": "text/x-python",
   "name": "python",
   "nbconvert_exporter": "python",
   "pygments_lexer": "ipython3",
   "version": "3.8.4"
  }
 },
 "nbformat": 4,
 "nbformat_minor": 5
}
